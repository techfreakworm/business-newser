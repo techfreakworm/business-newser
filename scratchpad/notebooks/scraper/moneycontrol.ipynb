{
 "cells": [
  {
   "cell_type": "code",
   "execution_count": 72,
   "metadata": {},
   "outputs": [],
   "source": [
    "import pandas as pd\n",
    "import json\n",
    "\n",
    "pd.set_option('display.max_rows', 500)\n"
   ]
  },
  {
   "cell_type": "code",
   "execution_count": 79,
   "metadata": {},
   "outputs": [],
   "source": [
    "from bs4 import BeautifulSoup\n",
    "import requests as r"
   ]
  },
  {
   "cell_type": "code",
   "execution_count": 73,
   "metadata": {},
   "outputs": [],
   "source": [
    "import os\n",
    "import sys\n",
    "import inspect\n",
    "parentdir = '../../../'\n",
    "sys.path.insert(0, parentdir) \n",
    "src = '../../../src'\n",
    "sys.path.insert(0, src) "
   ]
  },
  {
   "cell_type": "code",
   "execution_count": 74,
   "metadata": {},
   "outputs": [],
   "source": [
    "from config import Config\n",
    "from util.selenium_dispatcher import SeleniumDispatcher\n",
    "from db.mongo_adapter import MongoAdapter"
   ]
  },
  {
   "cell_type": "code",
   "execution_count": 75,
   "metadata": {},
   "outputs": [],
   "source": [
    "## Getting all urls for moneycontrol\n",
    "client = MongoAdapter().get_mongo_client()"
   ]
  },
  {
   "cell_type": "code",
   "execution_count": 76,
   "metadata": {},
   "outputs": [],
   "source": [
    "collection = client[Config.MONGO_DB][Config.NEWS_COLLECTION]"
   ]
  },
  {
   "cell_type": "code",
   "execution_count": 77,
   "metadata": {},
   "outputs": [],
   "source": [
    "cur = collection.aggregate([\n",
    "    {\n",
    "        '$addFields':\n",
    "        {\n",
    "            \"urlMatch\":\n",
    "            {\n",
    "                '$regexMatch':\n",
    "                        {\n",
    "                            'input': \"$url\",\n",
    "                            'regex': \"moneycontrol\"\n",
    "                        }\n",
    "            }\n",
    "        }\n",
    "    }\n",
    "    ,\n",
    "    {\n",
    "        '$match':\n",
    "        {\n",
    "            'urlMatch': True\n",
    "        }\n",
    "    }\n",
    "    ,\n",
    "    {\n",
    "        '$project':\n",
    "        {\n",
    "            'url': 1\n",
    "        }\n",
    "    }\n",
    "])\n"
   ]
  },
  {
   "cell_type": "code",
   "execution_count": 65,
   "metadata": {},
   "outputs": [],
   "source": [
    "objs = {}\n",
    "for dat in cur:\n",
    "    # print(dat)\n",
    "    id = str(dat['_id'])\n",
    "    url = dat['url']\n",
    "    # print(id, url)\n",
    "    objs[id] = url "
   ]
  },
  {
   "cell_type": "code",
   "execution_count": 112,
   "metadata": {},
   "outputs": [],
   "source": [
    "urls = list(objs.values())\n",
    "ids = list(objs.keys())"
   ]
  },
  {
   "cell_type": "code",
   "execution_count": 117,
   "metadata": {},
   "outputs": [],
   "source": [
    "dat = {}\n",
    "\n",
    "for id, url in zip(ids, urls):\n",
    "\n",
    "    res = r.get(url)\n",
    "    html_str = res.content\n",
    "    bs = BeautifulSoup(html_str, 'html.parser')\n",
    "    title = bs.find_all(class_=\"article_title artTitle\")[0].text\n",
    "    subtitle = bs.find_all(class_=\"article_desc\")[0].text\n",
    "\n",
    "    content_div = bs.find_all('div', class_=\"content_wrapper arti-flow\")\n",
    "    content = ''\n",
    "    for p in  content_div[0].find_all('p'):\n",
    "        content = content + p.text + '\\n'\n",
    "\n",
    "    dat[id] = {\n",
    "        'title': title,\n",
    "        'subtitle': subtitle,\n",
    "        'content': content\n",
    "    }"
   ]
  },
  {
   "cell_type": "code",
   "execution_count": 118,
   "metadata": {},
   "outputs": [
    {
     "data": {
      "text/plain": [
       "{'0068887183e6334febe4cece': {'title': 'XLRI completes final placement in two days, average salary up by Rs 2 lakh at Rs 24.3 lakh pa',\n",
       "  'subtitle': 'The final recruitment process saw participation from 108 recruiters with 362 domestic and international offers.',\n",
       "  'content': 'Xavier School of Management (XLRI) has been able to secure 100 percent placement for the outgoing batch in just two days. The average salary rose by Rs 1.95 lakh year-on-year to Rs 24.3 lakh per annum.\\nThe final recruitment process saw participation from 108 recruiters with 362 domestic and international offers.\\n\"This year\\'s placement season has once again witnessed remarkable success in spite of the longish economic slowdown. Interest in XLRI\\'s students has been tremendous, with top companies coming for recruitment,\" said P Christie, Director, XLRI-Xavier School of Management.\\nThe institute said that 43 percent of the batch got pre-placement offers. Here, the median salary offered to the batch saw an increase to Rs 23 lakh per annum from Rs 21 lakh per annum in 2019.\\nThe business school received multiple domestic offers at Rs 50 lakh per annum from the BFSI sector. The highest international offer stood at Rs 58.5 lakhs per annum from the sales and marketing domain.\\nKPMG and Pricewaterhouse Coopers made the highest number of offers among the regular recruiters. New finals recruiters included companies like Arga Investment Company, Tolaram Group, MH Alshaya, Myntra, Power Finance Corporation, Delhivery, JCB, Thoucentric, Welspun, Diageo, Varroc, CK Birla, amongst others.\\nThe top segments based on roles offered were Consulting, Sales & Marketing, and BFSI. Consulting firms extended offers to 26 percent of the candidates.\\nConsulting was the biggest draw this year with firms such as McKinsey & Co., Bain & Co., The Boston Consulting Group, Accenture Strategy, Deloitte, PWC, EY, KPMG, AON, Korn Ferry, Vector Group, Everest Group, Thoucentric Consulting, Infosys and others participating in the process.\\nAs far as FMCG is concerned, firms such as P&G, Hindustan Unilever, ITC, Colgate Palmolive, Asian Paints, Samsung, among others participated in the process. As far as companies in the pharmaceutical sector is concerned, firms such as Cipla, Dr Reddy\\'s, Astra Zeneca, GlaxoSmithKline, among others participated in the process. Giants in the automotive segment such as Maruti, Bajaj and JCB also participated.\\nIn the BFSI sector, firms like Citibank, JP Morgan Chase, Avendus Capital, Shannonside Capital, Goldman Sachs, Standard Chartered, ICICI, Power Finance Corporation, Belden, Edelweiss among others were part of the final placements.\\nRoles in General Management were offered by conglomerates such as Tata Group, Aditya Birla Group, Mahindra, Capgemini ELITE, Reliance Industries, Xiaomi, RPG, Hinduja, ACT and others.\\nThe firms in IT/e-commerce segment included Microsoft, Amazon, Ola, Media.net, Flipkart, Oyo Rooms, Tech Mahindra, HCL, TCS, EXL, and others.\\nDownload your money calendar for 2022-23 here and keep your dates with your moneybox, investments, taxes \\n \\n'},\n",
       " '0086efd842a41d271eeb49dd': {'title': 'Rupee regains 11 paise against USD amid ease in US-Iran tussle',\n",
       "  'subtitle': \"The dollar index, which gauges the greenback's strength against a basket of six currencies, rose 0.12 per cent to 96.78.\",\n",
       "  'content': \"The Indian rupee on January 7 reclaimed some lost ground, rising 11 paise to close at 71.82 against the US dollar as receding fears of a larger conflict in the Middle East helped crude oil prices ease. Besides, a rebound in the domestic equity markets also supported the rupee.\\nAt the interbank foreign exchange, the rupee opened on a positive note at 71.73 against the US currency. During the session, the domestic currency stayed strong and swung between a low of 71.87 and a high of 71.68. It finally closed at 71.82, showing a gain of 11 paise over its previous closing.\\nThe rupee had slipped 13 paise to 71.93 against the greenback on Monday.\\nThe dollar index, which gauges the greenback's strength against a basket of six currencies, rose 0.12 per cent to 96.78.\\nBrent futures, the global oil benchmark, fell 0.62 per cent to USD 68.48 per barrel.\\nDownload your money calendar for 2022-23 here and keep your dates with your moneybox, investments, taxes \\n \\n\"},\n",
       " '009f2b51fb14676cb3ffec30': {'title': 'Gold steadies as coronavirus fears counters China economic data',\n",
       "  'subtitle': 'A team of international experts led by the World Health Organization left for Beijing to help investigate the epidemic that claimed more than 900 lives in mainland China, surpassing the death toll from the SARS epidemic.',\n",
       "  'content': 'Gold prices held steady on Monday, as rising concerns over the severity of the coronavirus outbreak and its impact on the global markets offset slight pressure from positive economic data from China and the United States.\\nSpot gold was little changed at $1,569.05 per ounce by 0313 GMT. U.S. gold futures were flat at $1,572.70.\\nA team of international experts led by the World Health Organization left for Beijing to help investigate the epidemic that claimed more than 900 lives in mainland China, surpassing the death toll from the SARS epidemic.\\nAsian shares fell on market fears over the fallout from the epidemic.\\n\"There\\'s still a great deal of uncertainty around the (virus) impact and we\\'re seeing rising deaths and infections. The economic impacts are still unclear. If that\\'s the case, we\\'ll continue seeing reasonable support for gold,\" said Michael McCarthy, chief market strategist at CMC Markets.\\nCOVID-19 Vaccine\\nFrequently Asked Questions\\nA vaccine works by mimicking a natural infection. A vaccine not only induces immune response to protect people from any future COVID-19 infection, but also helps quickly build herd immunity to put an end to the pandemic. Herd immunity occurs when a sufficient percentage of a population becomes immune to a disease, making the spread of disease from person to person unlikely. The good news is that SARS-CoV-2 virus has been fairly stable, which increases the viability of a vaccine.\\nThere are broadly four types of vaccine — one, a vaccine based on the whole virus (this could be either inactivated, or an attenuated [weakened] virus vaccine); two, a non-replicating viral vector vaccine that uses a benign virus as vector that carries the antigen of SARS-CoV; three, nucleic-acid vaccines that have genetic material like DNA and RNA of antigens like spike protein given to a person, helping  human cells decode genetic material and produce the vaccine; and four, protein subunit vaccine wherein the recombinant proteins of SARS-COV-2 along with an adjuvant (booster) is given as a vaccine.\\nVaccine development is a long, complex process. Unlike drugs that are given to people with a diseased, vaccines are given to healthy people and also vulnerable sections such as children, pregnant women and the elderly. So rigorous tests are compulsory. History says that the fastest time it took to develop a vaccine is five years, but it usually takes double or sometimes triple that time.\\nHowever, he said that a rise in China\\'s January producer and consumer prices \"minutely hurt\" gold.\\nAlso capping gold\\'s gains, the dollar touched a four-month peak earlier in the session against a basket of rival currencies after robust U.S non-farm payrolls data on Friday.\\nThe U.S. Federal Reserve said the U.S. economy slowed last year on weak global growth, but the likelihood of recession has declined.\\nThe central bank flagged as risks the fallout from the coronavirus, \"elevated\" asset values and near-record levels of low-grade corporate debt.\\n\"Investors should continue to favour more defensive fixed income and, therefore, long gold positions until the impact of nCoV on growth becomes apparent,\" Stephen Innes, chief market strategist at AxiCorp, said in a note.\\nHoldings of the world\\'s largest gold-backed exchange-traded fund SPDR Gold Trust rose 0.13% to 916.08 tonnes on Friday, its highest since Oct. 29.\\nDownload your money calendar for 2022-23 here and keep your dates with your moneybox, investments, taxes \\n \\n'},\n",
       " '014b30b0579de719709606e0': {'title': \"'Momentum may take Nifty higher to 12,400 next week, bullish on these 3 stocks'\",\n",
       "  'subtitle': 'Sustained move above high 12,300 levels will push prices higher towards Fibonacci extension mark of 12,400 which coincides also with the cup and handle pattern targets',\n",
       "  'content': \"Shabbir Kayyumi\\nBulls continue to march northward without any hurdles and with the indices galloping higher in an unchartered territory that indicates a positive underlying trend.\\nThe index formed a long body bullish candlestick pattern on the weekly timeframe, and the overall structure looks bullish, whereas positive bias is intact as long as the Nifty is trading above previous week's low placed around the 12,046 level.\\nFurther upsides are likely in the near term towards the immediate target of cup and handle pattern comes near the 12,400 level.\\nNevertheless, the Nifty is trading higher above all popular moving averages (20/50/100/200) DMA, indicating a strong bullish bias to continue further. At the same time formation of Golden Crossover of 50*200 DMA last month indicates strong price action in favour of bulls ahead.\\nA lot of activity in the F&O segment is seen, whereas the highest Open Interest (OI) in Put is around 12,000 strike and maximum Open Interest (OI) in Call is around 12,300 levels.\\nMoreover, a sustained move above high 12,300 levels will push prices higher towards the Fibonacci extension mark of 12,400, which coincides also with the cup and handle pattern targets.\\nBank Nifty\\nThe Bank Nifty continues to soar higher along with the Nifty which has also scaled new highs with the current momentum. As long as the banking index sustains above 31,800 mark, it can extend higher towards 33,000 -33,500 levels.\\nHere is the list\\xa0of three stocks which could return 7-15 percent next week:\\nAshok Leyland | Buy around: Rs 83 | Target: Rs 96 | Stop loss: Rs 75 | Upside: 15 percent\\nOn the daily chart, the stock price has decisively broken out from its downward sloping line and sustaining above the same. On the daily and weekly chart, the stock has witnessed a shift of trend to the upward forming base with congestion.\\nThe weekly strength indicator and the momentum indicator Stochastic both are in positive territory which supports upside momentum to continue in the near term. The stock price is sustaining well above all its significant moving averages, which supports bullish sentiment ahead. Buy Ashok Leyland above Rs 83 with a stop loss of Rs 75 and for the target of Rs 96.\\nContainer Corporation of India | Buy around: Rs 575 | Target: Rs 625 | Stop loss: Rs 545 | Upside: 8 percent\\nOn a daily chart, the stock has taken the support of its lower band of falling channel line formation in which the stock has been trading since the last many days, which indicate a breakout movement in the counter. Moreover, a bullish crossover in MACD also suggests a positive trend for the time being.\\nOn an hourly chart, the stock is on the verge to give breakout of its flag pattern, which suggests a robust upside movement in the counter. Based on the above technical structure, one can take long position in the stock around Rs 575 with a stop loss of Rs 545 and for the target of Rs 625.\\nCummins India | Buy around: Rs 548 | Target: Rs 590 | Stop loss: Rs 530 | Upside: 7 percent\\nThe momentum indicator MACD has crossed the signal line indicating a start of a trend. The RSI too is above its key 50 mark indicating positive divergence on its side. The stock is breaking out of a falling channel with the weekly bullish engulfing candle, all indicating further bullishness.\\nThe crucial resistance of the 20 SMA has been recently taken off which indicated short term momentum to an uptrend. We recommend buying in Cummins around Rs 548 with a stop loss of Rs 530 and aim for a target of Rs 590.\\n(The author is Head of Technical Research at Narnolia Financial Advisors Ltd)\\nDisclosure: Narnolia Financial Advisors/Analyst (s) does/do not have any holding in the stocks discussed but these stocks may have been recommended to clients in the past. Clients of Narnolia Financial Advisors Ltd. may be holding aforesaid stocks. The stocks recommended are based on our analysis which is based on information obtained from public sources and sources believed to be reliable, but no independent verification has been made nor is its accuracy or completeness guaranteed. The views expressed in this research report accurately reflect the personal views of the analyst(s) about the subject securities or issues, and no part of the compensation of the research analyst(s) was, is, or will be directly or indirectly related to the specific recommendations and views expressed by research analyst(s) in this report.\\nDownload your money calendar for 2022-23 here and keep your dates with your moneybox, investments, taxes \\n \\n\"},\n",
       " '015c76ee5b12dafd04433340': {'title': 'MG Motor India unveils premium SUV Gloster, MPV G10',\n",
       "  'subtitle': 'The G10, which is expected to give a direct competition to Kia Motors MPV Carnival, is sold globally in markets such as Australia, New Zealand, Middle-East, South American and ASEAN countries.',\n",
       "  'content': 'MG Motor India on Friday unveiled its premium SUV Gloster and MPV G10 in the luxury segment at the Auto Expo here. These new models are scheduled to be launched in the domestic market later this year, the company said.\\n\"The launch of Gloster and G10 will mark our entry in the luxury Sport utility vehicle (SUV) and Multi-Purpose Vehicle (MPV) segments respectively. We are confident that, with its best-in-class features, specifications and performance, the Gloster will be a benchmark for luxury SUVs in India with its launch later this year and G10 will also follow soon,\" MG Motor India President and Managing Director Rajiv Chhaba said.\\nThe G10, which is expected to give a direct competition to Kia Motors MPV Carnival, is sold globally in markets such as Australia, New Zealand, Middle-East, South American and ASEAN countries.\\nIt comes with features such as various seating configurations, touch-free smart sensing rear door and smart automatic sliding doors, among others.\\nDownload your money calendar for 2022-23 here and keep your dates with your moneybox, investments, taxes \\n \\n'},\n",
       " '01656277e89efabe2b77d4ec': {'title': 'Colombia orders Uber to cease ride-hailing, cites competition rules violation',\n",
       "  'subtitle': 'Following a lawsuit filed against Uber by COTECH SA, the Superintendency of Industry and Commerce (SIC) said the U.S. company had breached market rules.',\n",
       "  'content': 'Colombia on December 20 ordered Uber to cease its ride-hailing operations in the Andean country, effective immediately, after a judge ruled the company violated competition rules.\\nFollowing a lawsuit filed against Uber by COTECH SA, the Superintendency of Industry and Commerce (SIC) said the U.S. company had breached market rules.\\nUber has more than 2.3 million active users in Colombia and around 88,000 driver partners.\\nThe app, however, has existed in a regulatory no-man\\'s land in Colombia. The Technology Ministry deems ride-hailing apps legal while transport authorities say they are against the law.\\nIn a statement the SIC said Uber generated \"a significant advantage in the market\" by rendering transport services for individuals via its application.\\nThe SIC said that following analysis, it ordered Uber\\'s ride-hailing services \"through the use of the Uber application to cease immediately.\" The order applies to Uber, Uber X and Uber VAN.\\nUber said in a statement that it rejects the ruling and immediately appealed it.\\n\"This decision reflects an act of censorship and infringes on the Inter American Convention on Human Rights, which has already condemned attempts to block Uber for violating the neutrality of the web, liberty of expression and freedom of internet,\" Uber said in a statement.\\nAndres Barreto, head of the SIC, confirmed that other Uber services, such as food-delivery service Uber Eats, were not prohibited by the ruling.\\nIn August, Uber was sanctioned with a fine of more than $629,000 for obstructing an administrative visit and failing to comply with SIC orders.\\nDownload your money calendar for 2022-23 here and keep your dates with your moneybox, investments, taxes \\n \\n'},\n",
       " '0198523955828c3f5eb5fa2d': {'title': 'RIL share price ends at record closing high; m-cap rises to Rs 10.17 lakh cr',\n",
       "  'subtitle': 'The stock closed above 1,600 levels for the first time, rising 1.87 percent to Rs 1,605.15 on the BSE.',\n",
       "  'content': 'Shares of Reliance Industries ended at record closing high with market capitalisation of more than Rs 10.17 lakh crore on December 19 amid buying interest.\\nThe stock closed above 1,600 levels for the first time, rising 1.87 percent to Rs 1,605.15 on the BSE. Its intraday record high stood at Rs 1,615, up 2.5 percent.\\nThe rally could be on the comments of\\xa0Sunil Mittal,\\xa0chairman of Bharti Airtel, who said that\\xa0average revenue per user (ARPU) is expected to increase to Rs 300 per month in future.\\nHe was talking to media after various industrialists met Finance Minister Nirmala Sitharaman in Delhi on December 19 adding that\\xa0tariffs were too low compared to investments.\\nOn December 18, Raamdeo Agrawal, Joint MD at Motilal Oswal told CNBC-TV18 that next five years will be fantastic for telecom space and average revenue per user (ARPU) can go from current Rs 125 to Rs 250 and 60-70 percent of that goes to EBITDA. Hence, top telecom stocks will rally more from current levels.\\nHe further added, \"Reliance Industries is very interesting case, invested more than Rs 3 lakh crore in capex in Jio and Retail. The outcome of these things will help the company maintain leadership.\"\\nIn fact, the oil-retail-to-telecom major was the biggest wealth creator after a gap of seven years, Motilal Oswal said in its Wealth Creation report on December 18.\\n\"The Rs 5.6-lakh crore created by Reliance is the highest ever so far by a huge margin,\" it added.\\nThe stock rallied from Rs 440 levels to Rs 1,605 currently during six-year period and it became the first company on Dalal Street to cross Rs 10 lakh crore in market-cap, largely backed by consumer businesses, including retail and Jio.\\nAfter tariff hike by the company earlier this month, Edelweiss believes Reliance Jio is best placed as on one hand it will benefit from the tariff hike and on the other, it will continue to gain feature phone subscribers from Bharti and Idea by virtue of its lucrative offer on Jiophone and relatively better network in rural areas.\\n\"We are building in tariff hike of around 6 percent in Q4FY20, following which we expect a gradual rise in ARPUs over the next three years. We expect Jio\\'s aggregate ARPU to be lower than that of its competitors in FY23 given the change in revenue mix in favour of low ARPU feature phone subscribers. The ARPU works out to Rs 175 in FY23, up around 46 percent over calculated ARPU of Rs 120 in Q2FY20,\" the brokerage said in its December 6 note.\\nOn the positive front, Edelweiss estimated Jio\\'s subscriber base to expand to 518.2 million, from 355.2 million in Q2FY20, bolstered by a jump in feature phone subscribers by 70 million to 122 million in FY23.\\n\"We remain positive on Reliance Jio led by no significant payout with respect to AGR-related dues, tariff hikes and favourable position in the feature phone segment,\" the brokerage said.\\nDownload your money calendar for 2022-23 here and keep your dates with your moneybox, investments, taxes \\n \\n'},\n",
       " '01fc9f9295543a77fc40940e': {'title': 'Exchanges can launch option in goods in commodity derivatives segment: Sebi',\n",
       "  'subtitle': 'Prior approval from Sebi will be required for the stock exchanges to start trading in options contracts with underlying goods.',\n",
       "  'content': 'Stock exchanges can launch option in goods in the commodity derivatives segment, Sebi said on January 16 as it put in place the product design and risk management framework. Bourses can settle options with underlying goods while settlement till now was allowed through commodity futures only.\\nPrior approval from Sebi will be required for the stock exchanges to start trading in options contracts with underlying goods.\\n\"Stock exchanges are now permitted to launch \\'option in goods\\' in their commodity derivatives segment. This is in addition to \\'options on commodity futures\\'\", Sebi said in a circular.\\nUnder the eligibility criteria, only those goods on which the exchange is either trading futures contracts or is proposing to launch futures contracts would be permitted.\\nIn case of proposed futures contracts, the same should be launched on or before the day of starting option in the goods concerned.\\nThe option contracts would have same quality specifications, delivery centres, final settlement price methodology, trading hours and minimum tenor as the corresponding futures contracts, Sebi said.\\nExchanges can decide on the expiry day of options contracts.\\nNorms for position limits for options would be same as that of futures contracts.\\nHowever, \"the computation of position limits for \\'option in goods\\' shall be clubbed with position limits of \\'options on commodity futures\\' on the same underlying goods but shall remain separate from position limits of futures contracts on the same underlying\", Sebi said.\\nAccording to the watchdog, Clearing Corporations (CCs) should adopt initial margin models and parameters that are based on potential risks.\\nThere should be margin requirements sufficient to cover potential future exposure to clients in the interval between the last margin collection and the close out of positions following a client\\'s default.\\nInitial margin requirement should be adequate to cover at least 99 per cent value at risk. The margin period of risk should either be at least equal to three days or of corresponding futures contracts, whichever is higher.\\nFor margining at client level, Sebi has asked the CCs to impose initial margins at the level of portfolio of individual client comprising his positions in futures and options contracts on each commodity.\\nRegarding real time computation, the regulator said CCs should mark to market the options positions by adding the current market value of options. It should be positive for long options and negative for short options.\\n\"Thus, mark to market gains and losses would not be settled in cash for options positions,\" it added.\\nDerivatives in financial markets typically refers to a forward, future, option or any other hybrid contract of pre-determined fixed duration.\\nDownload your money calendar for 2022-23 here and keep your dates with your moneybox, investments, taxes \\n \\n'},\n",
       " '0212acb320ea81d785554f39': {'title': 'SEBI puts in place guidelines for listed REIT, InvIT on rights issue',\n",
       "  'subtitle': 'SEBI said the issuer will have to disclose objects of the issue, related-party transactions, valuation, financial details, review of credit rating and grievance redressal mechanism in the placement document.',\n",
       "  'content': 'Markets regulator Securities and Exchange Board of India (SEBI)\\xa0on January 17 put in place a framework for the rights issue of units by listed REITs and InvITs, calling for disclosure of objects of the issue, financial details in the offer document by such investment instruments. In two separate circulars, the regulator specified the manner of issuance of units under the rights issue by listed real estate investment trusts (REITs) and infrastructure investment trusts (InvITs).\\nSEBI said the issuer will have to disclose objects of the issue, related-party transactions, valuation, financial details, review of credit rating and grievance redressal mechanism in the placement document.\\nThe regulator had first notified REIT and InvIT Regulations in 2014, allowing setting up and listing of such trusts which are popular in some advanced markets.\\nEver since SEBI introduced InvITs, the market witnessed listing of two public InvITs — IRB InvIT Fund and India Grid Trust, while three InvITs — IndInfravit Trust, India Infrastructure Trust and Oriental InfraTrust — were privately placed. On the other hand, Embassy Office Parks REIT is the only listed real estate investment trust.\\nSEBI has allowed listed REITs and InvITs to make a rights issue of units.\\nThis is subject to several conditions including these investment vehicles obtaining in-principle approval of the stock exchanges for listing of units proposed to be issued, besides none of the respective promoters or partners or directors of the sponsor or manager or trustee of the REIT and InvIT is a fugitive economic offender and should not be barred from the securities market.\\nWith regard to pricing, SEBI said that the investment manager on behalf of the REIT and InvIT, in consultation with the lead merchant banker(s), will decide the issue price before determining the record date.\\nThe investment manager, on behalf of InvIT and REIT need to announce the record date to stock exchange at least three working days (excluding the date of intimation and the record date) prior to the record date. InvIT and REIT will not withdraw its rights issue after announcement of the record date.\\nWith regard to manner of issuance of unit, SEBI said that units shall be allotted in the dematerialised form only and shall be listed on the stock exchange where the units of the REIT and InvIT are listed.\\n\"The minimum subscription to be received in the rights issue shall be 90 per cent of the issue size through the letter of offer, \" Sebi noted.\\nThe InvIT and REIT \"shall not make any further issue of units in any manner whether by way of public issue, rights issue, preferential issue, qualified institutions placement, institutional placement, issue of bonus shares or otherwise during the period between the date of filing the draft letter of offer with the board and the listing of the units offered through the letter of offer or refund of application monies.\"\\nDownload your money calendar for 2022-23 here and keep your dates with your moneybox, investments, taxes \\n \\n'},\n",
       " '022cdebd56c3ec53f27b3a0d': {'title': 'Coronavirus fears will dampen mood further but best time to pick stocks: Experts',\n",
       "  'subtitle': 'From extreme calmness to extreme pessimism, D-Street is also a victim of the virus outbreak in other countries, says Umesh Mehta of Samco Securities.',\n",
       "  'content': 'Indian shares fell around 3 percent, mirroring global counterparts, as fears of the coronavirus outbreak turning into a pandemic and hitting growth made the markets jittery across the world.\\nChina, where the virus originated, has seen a decline in infections and deaths but the virus that causes the flu-like disease called COVID-19 has spread to other parts of the world, including South Korea, Nigeria, Iran, New Zealand, Italy, France and the US.\\nInfected cases worldwide increased to 83,342, with death toll at 2,858, which China accounting for most of the deaths and infections.\\nChina has now been battling the novel coronavirus for almost two months.\\nWorried investors and analysts have started cutting economic growth projections for the Asian giant and raised red flag for global growth also, as China is the second-largest economy in the world, say experts.\\n\"As the coronavirus is spreading across the countries, the fear factor in markets is going up. Till the time the coronavirus was contained in Mainland China there was compliancy in global equity markets but now as more cases are getting reported in various countries the impact is sharper,\" said Rusmik Oza, Senior VP (Head of Fundamental Research-PCG), Kotak Securities.\\nUmesh Mehta, Head of Research at Samco Securities, also said from extreme calmness to extreme pessimism, D-Street was also a victim of the virus outbreak in other countries. \"This pandemic led to indices across the globe to witness a sharp fall this week,\" he said.\\nThe BSE Sensex plunged 1,215.14 points or 3.06 percent to 38,530.52 and the Nifty50 fell 362.50 points or 3.12 percent to 11,270.80, taking the total weekly loss to 6.4 percent and 6.7 percent, respectively.\\nThe Nifty Midcap and Smallcap indices also fell in line with benchmarks, falling more than 7 percent on weekly basis.\\nGlobal rating agency Moody\\'s expects a recession-kind of a situation if the virus stays for a longer period.\\n\"There is a 40 percent chance that the coronavirus outbreak turns into a pandemic—when an epidemic spreads globally and affects a large number of people worldwide — and that if such a situation arises, then it would \\'result in global and US recessions during the first half of this year,\" CNBC-TV18 quoted Moody’s Analytics as saying.\\nThe fall in six consecutive sessions suggested that the market seem to have started pricing in the likely impact of the virus on earnings and economy.\\nThe first quarter of CY20 is expected to be weak but the second quarter, too, may see some weakness if the virus persists.\\n\"There is no reason India is any less immune to coronavirus than anywhere else. At least, the first quarter (Q1CY20) is a wipe-out and that, I think, was largely expected anyway and is now imbued in prices,\" Mark Matthews of Julius Baer & Co told CNBC-TV18.\\nGautam Chhaochharia of UBS Securities said, \"Base case for the markets till now globally and in India has been that it\\'s a short-term one-off and the markets and economy will rebound fairly quickly but now it\\'s getting prolonged and that\\'s what is causing nervousness that prolonged impact of this could have far bigger impact in terms of economic activity globally.\"\\nThe market is expected to see some lingering effect of virus, but the market had started looking oversold and throwing a lot of opportunities to accumulate, experts say.\\n\"During past instances like coronavirus, markets fell gradually and recovered gradually. This time the fall has been vertical and that too in a matter of few days. Going by past precedence, the recovery in markets (post containment of such epidemics) is equal or higher than the fall. As the fall has been too-fast-too-soon, markets have gone into oversold zone (ie RSI of Nifty-50 has gone to 25 level),\" Oza said.\\nSince the risk-reward ratio had turned favourable for the market, it was ideal to accumulate stocks keeping in mind the downside of 11,000 for the Nifty, he said.\\n\"Indian bourses have been trading around higher valuations and hence a correction was needed to align the markets as per the mean reversion theory. Hence, this week’s fall is a valuation play with coronavirus as the scapegoat,” Mehta of Samco Securities said.\\n\"Investors should not burn their hands by selling in this fall. They should slowly and steadily pick reasonably valued quality stocks in a SIP format as every dip becomes a good buying opportunity.\"\\nDownload your money calendar for 2022-23 here and keep your dates with your moneybox, investments, taxes \\n \\n'}}"
      ]
     },
     "execution_count": 118,
     "metadata": {},
     "output_type": "execute_result"
    }
   ],
   "source": [
    "dat"
   ]
  },
  {
   "cell_type": "code",
   "execution_count": null,
   "metadata": {},
   "outputs": [],
   "source": []
  }
 ],
 "metadata": {
  "interpreter": {
   "hash": "2d877b9849a312755dddf55394500387976c99a9df753b8f10e609585953c56b"
  },
  "kernelspec": {
   "display_name": "pawtree",
   "language": "python",
   "name": "python3"
  },
  "language_info": {
   "codemirror_mode": {
    "name": "ipython",
    "version": 3
   },
   "file_extension": ".py",
   "mimetype": "text/x-python",
   "name": "python",
   "nbconvert_exporter": "python",
   "pygments_lexer": "ipython3",
   "version": "3.9.10"
  }
 },
 "nbformat": 4,
 "nbformat_minor": 4
}
