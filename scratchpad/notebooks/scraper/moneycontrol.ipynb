{
 "cells": [
  {
   "cell_type": "code",
   "execution_count": 2,
   "metadata": {},
   "outputs": [],
   "source": [
    "import pandas as pd\n",
    "import json\n",
    "\n",
    "pd.set_option('display.max_rows', 500)\n"
   ]
  },
  {
   "cell_type": "code",
   "execution_count": 14,
   "metadata": {},
   "outputs": [],
   "source": [
    "import os\n",
    "import sys\n",
    "import inspect\n",
    "parentdir = '../../../'\n",
    "sys.path.insert(0, parentdir) \n",
    "src = '../../../src'\n",
    "sys.path.insert(0, src) "
   ]
  },
  {
   "cell_type": "code",
   "execution_count": 24,
   "metadata": {},
   "outputs": [],
   "source": [
    "from config import Config\n",
    "from util.selenium_dispatcher import SeleniumDispatcher\n",
    "from db.mongo_adapter import MongoAdapter"
   ]
  },
  {
   "cell_type": "code",
   "execution_count": 25,
   "metadata": {},
   "outputs": [],
   "source": [
    "## Getting all urls for moneycontrol\n",
    "client = MongoAdapter().get_mongo_client()"
   ]
  },
  {
   "cell_type": "code",
   "execution_count": 26,
   "metadata": {},
   "outputs": [],
   "source": [
    "collection = client[Config.MONGO_DB][Config.NEWS_COLLECTION]"
   ]
  },
  {
   "cell_type": "code",
   "execution_count": 64,
   "metadata": {},
   "outputs": [],
   "source": [
    "cur = collection.aggregate([\n",
    "    {\n",
    "        '$addFields':\n",
    "        {\n",
    "            \"urlMatch\":\n",
    "            {\n",
    "                '$regexMatch':\n",
    "                        {\n",
    "                            'input': \"$url\",\n",
    "                            'regex': \"moneycontrol\"\n",
    "                        }\n",
    "            }\n",
    "        }\n",
    "    }\n",
    "    ,\n",
    "    {\n",
    "        '$match':\n",
    "        {\n",
    "            'urlMatch': True\n",
    "        }\n",
    "    }\n",
    "    ,\n",
    "    {\n",
    "        '$project':\n",
    "        {\n",
    "            'url': 1\n",
    "        }\n",
    "    }\n",
    "])\n"
   ]
  },
  {
   "cell_type": "code",
   "execution_count": 65,
   "metadata": {},
   "outputs": [],
   "source": [
    "objs = {}\n",
    "for dat in cur:\n",
    "    # print(dat)\n",
    "    id = str(dat['_id'])\n",
    "    url = dat['url']\n",
    "    # print(id, url)\n",
    "    objs[id] = url "
   ]
  },
  {
   "cell_type": "code",
   "execution_count": 67,
   "metadata": {},
   "outputs": [
    {
     "data": {
      "text/plain": [
       "22474"
      ]
     },
     "execution_count": 67,
     "metadata": {},
     "output_type": "execute_result"
    }
   ],
   "source": [
    "len(objs)"
   ]
  },
  {
   "cell_type": "code",
   "execution_count": 68,
   "metadata": {},
   "outputs": [],
   "source": [
    "sel = SeleniumDispatcher()\n",
    "driver = sel.get_driver()"
   ]
  },
  {
   "cell_type": "code",
   "execution_count": 70,
   "metadata": {},
   "outputs": [],
   "source": [
    "urls = list(objs.values())"
   ]
  },
  {
   "cell_type": "code",
   "execution_count": 71,
   "metadata": {},
   "outputs": [],
   "source": [
    "driver.get(urls[0])"
   ]
  },
  {
   "cell_type": "code",
   "execution_count": null,
   "metadata": {},
   "outputs": [],
   "source": []
  }
 ],
 "metadata": {
  "interpreter": {
   "hash": "2d877b9849a312755dddf55394500387976c99a9df753b8f10e609585953c56b"
  },
  "kernelspec": {
   "display_name": "pawtree",
   "language": "python",
   "name": "python3"
  },
  "language_info": {
   "codemirror_mode": {
    "name": "ipython",
    "version": 3
   },
   "file_extension": ".py",
   "mimetype": "text/x-python",
   "name": "python",
   "nbconvert_exporter": "python",
   "pygments_lexer": "ipython3",
   "version": "3.9.10"
  }
 },
 "nbformat": 4,
 "nbformat_minor": 4
}
